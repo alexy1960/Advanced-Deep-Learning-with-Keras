{
 "cells": [
  {
   "cell_type": "markdown",
   "metadata": {},
   "source": [
    "Define team lookup\n",
    "\n",
    "Shared layers allow a model to use the same weight matrix for multiple steps. In this exercise, you will build a \"team strength\" layer that represents each team by a single number. You will use this number for both teams in the model. The model will learn a number for each team that works well both when the team is team_1 and when the team is team_2 in the input data.\n",
    "\n",
    "The games_season DataFrame is available in your workspace."
   ]
  },
  {
   "cell_type": "code",
   "execution_count": null,
   "metadata": {},
   "outputs": [],
   "source": [
    "# Imports\n",
    "from tensorflow.keras.layers import Embedding\n",
    "from numpy import unique\n",
    "\n",
    "# Count the unique number of teams\n",
    "n_teams = unique(games_season['team_1']).shape[0]\n",
    "\n",
    "# Create an embedding layer\n",
    "team_lookup = Embedding(input_dim=n_teams,\n",
    "                        output_dim=1,\n",
    "                        input_length=1,\n",
    "                        name='Team-Strength')"
   ]
  },
  {
   "cell_type": "markdown",
   "metadata": {},
   "source": [
    "Define team model\n",
    "\n",
    "The team strength lookup has three components: an input, an embedding layer, and a flatten layer that creates the output.\n",
    "\n",
    "If you wrap these three layers in a model with an input and output, you can re-use that stack of three layers at multiple places.\n",
    "\n",
    "Note again that the weights for all three layers will be shared everywhere we use them."
   ]
  },
  {
   "cell_type": "code",
   "execution_count": null,
   "metadata": {},
   "outputs": [],
   "source": [
    "# Imports\n",
    "from tensorflow.keras.layers import Input, Embedding, Flatten\n",
    "from tensorflow.keras.models import Model\n",
    "\n",
    "# Create an input layer for the team ID\n",
    "teamid_in = Input(shape=(1,))\n",
    "\n",
    "# Lookup the input in the team strength embedding layer\n",
    "strength_lookup = team_lookup(teamid_in)\n",
    "\n",
    "# Flatten the output\n",
    "strength_lookup_flat = Flatten()(strength_lookup)\n",
    "\n",
    "# Combine the operations into a single, re-usable model\n",
    "team_strength_model = Model(teamid_in, strength_lookup_flat, name='Team-Strength-Model')"
   ]
  },
  {
   "cell_type": "markdown",
   "metadata": {},
   "source": [
    "Defining two inputs\n",
    "\n",
    "In this exercise, you will define two input layers for the two teams in your model. This allows you to specify later in the model how the data from each team will be used differently."
   ]
  },
  {
   "cell_type": "code",
   "execution_count": null,
   "metadata": {},
   "outputs": [],
   "source": [
    "# Load the input layer from tensorflow.keras.layers\n",
    "from tensorflow.keras.layers import Input\n",
    "\n",
    "# Input layer for team 1\n",
    "team_in_1 = Input(shape=(1,),name='Team-1-In')\n",
    "\n",
    "# Separate input layer for team 2\n",
    "team_in_2 = Input(shape=(1,),name='Team-2-In')"
   ]
  },
  {
   "cell_type": "markdown",
   "metadata": {},
   "source": [
    "Lookup both inputs in the same model\n",
    "\n",
    "Now that you have a team strength model and an input layer for each team, you can lookup the team inputs in the shared team strength model. The two inputs will share the same weights.\n",
    "\n",
    "In this dataset, you have 10,888 unique teams. You want to learn a strength rating for each team, such that if any pair of teams plays each other, you can predict the score, even if those two teams have never played before. Furthermore, you want the strength rating to be the same, regardless of whether the team is the home team or the away team.\n",
    "\n",
    "To achieve this, you use a shared layer, defined by the re-usable model (team_strength_model()) you built in exercise 3 and the two input layers (team_in_1 and team_in_2) from the previous exercise, all of which are available in your workspace."
   ]
  },
  {
   "cell_type": "code",
   "execution_count": null,
   "metadata": {},
   "outputs": [],
   "source": [
    "# Lookup team 1 in the team strength model\n",
    "team_1_strength = team_strength_model(team_in_1)\n",
    "\n",
    "# Lookup team 2 in the team strength model\n",
    "team_2_strength = team_strength_model(team_in_2)"
   ]
  },
  {
   "cell_type": "markdown",
   "metadata": {},
   "source": [
    "Output layer using shared layer\n",
    "\n",
    "Now that you've looked up how \"strong\" each team is, subtract the team strengths to determine which team is expected to win the game.\n",
    "\n",
    "This is a bit like the seeds that the tournament committee uses, which are also a measure of team strength. But rather than using seed differences to predict score differences, you'll use the difference of your own team strength model to predict score differences.\n",
    "\n",
    "The subtract layer will combine the weights from the two layers by subtracting them."
   ]
  },
  {
   "cell_type": "code",
   "execution_count": null,
   "metadata": {},
   "outputs": [],
   "source": [
    "# Import the Subtract layer from tensorflow.keras\n",
    "from tensorflow.keras.layers import Subtract\n",
    "\n",
    "# Create a subtract layer using the inputs from the previous exercise\n",
    "score_diff = Subtract()([team_1_strength, team_2_strength])"
   ]
  },
  {
   "cell_type": "markdown",
   "metadata": {},
   "source": [
    "Model using two inputs and one output\n",
    "\n",
    "Now that you have your two inputs (team id 1 and team id 2) and output (score difference), you can wrap them up in a model so you can use it later for fitting to data and evaluating on new data."
   ]
  },
  {
   "cell_type": "code",
   "execution_count": null,
   "metadata": {},
   "outputs": [],
   "source": [
    "# Imports\n",
    "from tensorflow.keras.layers import Subtract\n",
    "from tensorflow.keras.models import Model\n",
    "\n",
    "# Subtraction layer from previous exercise\n",
    "score_diff = Subtract()([team_1_strength, team_2_strength])\n",
    "\n",
    "# Create the model\n",
    "model = Model([team_in_1, team_in_2], score_diff)\n",
    "\n",
    "# Compile the model\n",
    "model.compile(optimizer='adam', loss='mean_absolute_error')"
   ]
  },
  {
   "cell_type": "markdown",
   "metadata": {},
   "source": [
    "Fit the model to the regular season training data\n",
    "\n",
    "Now that you've defined a complete team strength model, you can fit it to the basketball data! Since your model has two inputs now, you need to pass the input data as a list."
   ]
  },
  {
   "cell_type": "code",
   "execution_count": null,
   "metadata": {},
   "outputs": [],
   "source": [
    "# Get the team_1 column from the regular season data\n",
    "input_1 = games_season['team_1']\n",
    "\n",
    "# Get the team_2 column from the regular season data\n",
    "input_2 = games_season['team_2']\n",
    "\n",
    "# Fit the model to input 1 and 2, using score diff as a target\n",
    "model.fit([input_1, input_2],\n",
    "          games_season['score_diff'],\n",
    "          epochs=1,\n",
    "          batch_size=2048,\n",
    "          validation_split=0.10,\n",
    "          verbose=True)"
   ]
  },
  {
   "cell_type": "markdown",
   "metadata": {},
   "source": [
    "Evaluate the model on the tournament test data\n",
    "\n",
    "The model you fit to the regular season data (model) in the previous exercise and the tournament dataset (games_tourney) are available in your workspace.\n",
    "\n",
    "In this exercise, you will evaluate the model on this new dataset. This evaluation will tell you how well you can predict the tournament games, based on a model trained with the regular season data. This is interesting because many teams play each other in the tournament that did not play in the regular season, so this is a very good check that your model is not overfitting."
   ]
  },
  {
   "cell_type": "code",
   "execution_count": null,
   "metadata": {},
   "outputs": [],
   "source": [
    "# Get team_1 from the tournament data\n",
    "input_1 = games_tourney['team_1']\n",
    "\n",
    "# Get team_2 from the tournament data\n",
    "input_2 = games_tourney['team_2']\n",
    "\n",
    "# Evaluate the model using these inputs\n",
    "print(model.evaluate([input_1, input_2], games_tourney['score_diff'], verbose=False))"
   ]
  }
 ],
 "metadata": {
  "language_info": {
   "name": "python"
  }
 },
 "nbformat": 4,
 "nbformat_minor": 2
}
